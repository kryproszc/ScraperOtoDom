{
 "cells": [
  {
   "cell_type": "code",
   "execution_count": 1,
   "id": "445b75e1-f427-480a-abfa-dd59deae342b",
   "metadata": {},
   "outputs": [],
   "source": [
    "import pandas as pd\n",
    "from pymongo import MongoClient\n",
    "import re\n",
    "from geopy.geocoders import Nominatim\n",
    "import numpy as np"
   ]
  },
  {
   "cell_type": "code",
   "execution_count": 2,
   "id": "ea2ead80-65e2-402c-a25f-5dc53dbe551e",
   "metadata": {},
   "outputs": [],
   "source": [
    "geolocator = Nominatim(user_agent=\"Krystian\")"
   ]
  },
  {
   "cell_type": "code",
   "execution_count": 4,
   "id": "ee5df392-76ae-4a28-b351-ca9e17428e8d",
   "metadata": {},
   "outputs": [],
   "source": [
    "client = MongoClient('localhost', 27017)\n",
    "db = client['test-database']\n",
    "db.list_collection_names()\n",
    "daneSurowe = db[\"Otodom\"]\n",
    "daneSurowe = list(daneSurowe.find())\n",
    "daneSurowe = pd.DataFrame.from_dict(daneSurowe)"
   ]
  },
  {
   "cell_type": "code",
   "execution_count": 5,
   "id": "6a4f2656-71ba-4bcb-9516-5b601d12d74e",
   "metadata": {},
   "outputs": [],
   "source": [
    "def zwracaCene(x):\n",
    "    x = x.replace(' ','').replace(',','.')\n",
    "    if len(re.findall(r'zł', x))>0:\n",
    "        return float(x.replace('zł',''))\n",
    "    else:\n",
    "        return 4.54*float(x.replace('EUR',''))"
   ]
  },
  {
   "cell_type": "code",
   "execution_count": 6,
   "id": "b693a629-e215-4593-9e80-3119d5521fb9",
   "metadata": {},
   "outputs": [],
   "source": [
    "adress = 'Kraków, Rynek Główny'\n",
    "location = geolocator.geocode(adress)\n",
    "lat1, lon1 = location[1][0],location[1][1]"
   ]
  },
  {
   "cell_type": "code",
   "execution_count": 7,
   "id": "c707d80d-4d6f-40cc-8563-cb6251c0e4d0",
   "metadata": {},
   "outputs": [],
   "source": [
    "def odlegloscOdCentrum(ulica):\n",
    "    try:\n",
    "        lat1,lon1 = (50.061516499999996, 19.935947926355013)\n",
    "        location = geolocator.geocode(ulica.replace('ul.',''))\n",
    "        lat2, lon2 = location[1][0],location[1][1]\n",
    "        r = 6371\n",
    "        phi1 = np.radians(lat1)\n",
    "        phi2 = np.radians(lat2)\n",
    "        delta_phi = np.radians(lat2-lat1)\n",
    "        delta_lambda = np.radians(lon2-lon1)\n",
    "        a = np.sin(delta_phi / 2)**2 + np.cos(phi1) * np.cos(phi2)*np.sin(delta_lambda / 2)**2\n",
    "        res = r * (2 * np.arctan2(np.sqrt(a), np.sqrt(1-a)))\n",
    "    except TypeError as err :\n",
    "        return float(0)\n",
    "    else:\n",
    "        return np.round(res, 2)"
   ]
  },
  {
   "cell_type": "code",
   "execution_count": null,
   "id": "5e42131e-340f-42e8-aff0-7e162b60c2a9",
   "metadata": {},
   "outputs": [],
   "source": [
    "daneSurowe.drop(daneSurowe[daneSurowe['Cena']=='Zapytaj o cenę'].index, axis=0, inplace=True)\n",
    "daneSurowe.drop('_id', axis=1, inplace=True)\n",
    "daneSurowe['Rynek'] = daneSurowe['Rynek'].apply(lambda x:  0 if x=='wtórny' else 1 )\n",
    "daneSurowe['Cena'] = daneSurowe['Cena'].apply(zwracaCene)\n",
    "daneSurowe['Powierzchnia'] = daneSurowe['Powierzchnia'].apply(lambda x:float(x.replace('m²','').replace(' ','').replace(',','.')))\n",
    "daneSurowe['Liczba_pokoi'] = daneSurowe['Liczba_pokoi'].apply(lambda x: 11 if x =='więcej niż 10' else x)\n",
    "daneSurowe['Winda'] = daneSurowe['informacjeDodatkowe'].apply(lambda x: 1 if 'winda' in x else 0)\n",
    "daneSurowe['Balkon'] = daneSurowe['informacjeDodatkowe'].apply(lambda x: 1 if 'balkon' in x else 0)\n",
    "daneSurowe['Klimatyzacja'] = daneSurowe['informacjeDodatkowe'].apply(lambda x: 1 if 'klimatyzacja' in x else 0)\n",
    "daneSurowe['Monitoring'] = daneSurowe['informacjeDodatkowe'].apply(lambda x: 1 if 'monitoring' in x else 0)\n",
    "daneSurowe['Internet'] = daneSurowe['informacjeDodatkowe'].apply(lambda x: 1 if 'internet' in x else 0)\n",
    "daneSurowe['Teren zamknięty'] = daneSurowe['informacjeDodatkowe'].apply(lambda x: 1 if 'teren zamknięty' in x else 0)\n",
    "daneSurowe['Piwnica'] = daneSurowe['informacjeDodatkowe'].apply(lambda x: 1 if 'piwnica' in x else 0)\n",
    "daneSurowe['Garaż/Miejsce parkingowe'] = daneSurowe['informacjeDodatkowe'].apply(lambda x: 1 if 'garaż/miejsce parkingowe' in x else 0)"
   ]
  },
  {
   "cell_type": "code",
   "execution_count": null,
   "id": "032889f0-0882-462f-b08a-e452568871fd",
   "metadata": {},
   "outputs": [],
   "source": [
    "daneSurowe['Odległość'] = daneSurowe['Lokalizacja'].apply(odlegloscOdCentrum)"
   ]
  }
 ],
 "metadata": {
  "kernelspec": {
   "display_name": "Python 3",
   "language": "python",
   "name": "python3"
  },
  "language_info": {
   "codemirror_mode": {
    "name": "ipython",
    "version": 3
   },
   "file_extension": ".py",
   "mimetype": "text/x-python",
   "name": "python",
   "nbconvert_exporter": "python",
   "pygments_lexer": "ipython3",
   "version": "3.8.8"
  }
 },
 "nbformat": 4,
 "nbformat_minor": 5
}

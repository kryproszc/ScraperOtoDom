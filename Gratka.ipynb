{
 "cells": [
  {
   "cell_type": "code",
   "execution_count": null,
   "id": "7022f2cf-aebe-4758-92f0-6b2a94c9f5a2",
   "metadata": {},
   "outputs": [],
   "source": [
    "from bs4 import BeautifulSoup\n",
    "from requests import get\n",
    "import pandas as pd\n",
    "import sqlite3\n",
    "import numpy as np\n",
    "import re"
   ]
  },
  {
   "cell_type": "code",
   "execution_count": null,
   "id": "9784733d-2bf1-4998-b82e-455649bdfd7b",
   "metadata": {},
   "outputs": [],
   "source": [
    "db = sqlite3.connect(\"nieruchomosciGratka.db\")\n",
    "cursor = db.cursor()\n",
    "cursor.execute('INSERT TABLE offers (Cena REAL,Lokalicacja TEXT, Powierzchnia REAL,Pokoje TEXT,LPieter TEXT,Piętro TEXT,Rok TEXT, Piwnica TEXT, Balkon TEXT)')"
   ]
  },
  {
   "cell_type": "code",
   "execution_count": null,
   "id": "6b382676-84f5-4dd1-b36e-161a18672b39",
   "metadata": {},
   "outputs": [],
   "source": [
    "for i in range(1,100):\n",
    "    print(f\"Jestem na stronie: {i}\")\n",
    "    URL = \"https://gratka.pl/nieruchomosci/mieszkania/krakow?page=\"+str(i)\n",
    "    page = get(URL)\n",
    "    bs=BeautifulSoup(page.content,'html.parser')\n",
    "    for offers in bs.find_all('article',class_=\"teaserUnified\",role=\"link\"):\n",
    "        link = offers[\"data-href\"]\n",
    "        pagelink = get(link)\n",
    "        bslink=BeautifulSoup(pagelink.content,'html.parser')\n",
    "        strona = bslink.find(\"ul\",class_=\"parameters__singleParameters\")\n",
    "        cena = None\n",
    "        r = bslink.find(\"div\",class_='priceInfo')\n",
    "        cena = r.find(\"span\",class_=\"priceInfo__value\").contents[0].replace(\" \",\"\")\n",
    "        powierzchnia = None\n",
    "        pietro = None\n",
    "        pokoje = None\n",
    "        liczbaPieter = None\n",
    "        rok = None\n",
    "        piwnica = 0\n",
    "        balkon = 0\n",
    "        lokalicacja = None\n",
    "        stronaDodatkowa = bslink.find_all(\"li\",class_=\"parameters__groupParameter\")\n",
    "        dodatkowa = list(map(lambda x:x.get_text().replace(\" \",\"\").replace(\"\\n\",\"\"),stronaDodatkowa))\n",
    "        if 'balkon' in dodatkowa:\n",
    "            balkon += 1            \n",
    "        if 'piwnica' in dodatkowa:\n",
    "            piwnica += 1\n",
    "        for dana in strona.find_all(\"li\"):\n",
    "            if dana.find(\"span\")==None:\n",
    "                continue\n",
    "            else:\n",
    "                if dana.find(\"span\").get_text()=='Lokalizacja':\n",
    "                    lokalicacja = dana.find(class_=\"parameters__value\").get_text().replace(\" \",\"\").split(',')[1]\n",
    "                if dana.find(\"span\").get_text()==\"Powierzchnia w m2\":\n",
    "                    powierzchnia = float(dana.find(class_=\"parameters__value\").get_text().replace(\"m2\",\"\").replace(\",\",\".\"))\n",
    "                elif dana.find(\"span\").get_text()==\"Piętro\":\n",
    "                    pietro = dana.find(class_=\"parameters__value\").get_text()\n",
    "                elif dana.find(\"span\").get_text()==\"Liczba pokoi\":\n",
    "                    pokoje = (dana.find(class_=\"parameters__value\").get_text())\n",
    "                elif dana.find(\"span\").get_text()==\"Liczba pięter w budynku\":\n",
    "                    liczbaPieter = (dana.find(class_=\"parameters__value\").get_text())\n",
    "                elif dana.find(\"span\").get_text()==\"Rok budowy\":\n",
    "                    rok = dana.find(class_=\"parameters__value\").get_text()\n",
    "        cursor.execute('INSERT INTO  offers VALUES (?,?,?,?,?,?,?,?,?)',(cena,lokalicacja,powierzchnia,pokoje,liczbaPieter,pietro,rok,piwnica,balkon))\n",
    "        db.commit()\n",
    "db.close()"
   ]
  }
 ],
 "metadata": {
  "kernelspec": {
   "display_name": "Python 3",
   "language": "python",
   "name": "python3"
  },
  "language_info": {
   "codemirror_mode": {
    "name": "ipython",
    "version": 3
   },
   "file_extension": ".py",
   "mimetype": "text/x-python",
   "name": "python",
   "nbconvert_exporter": "python",
   "pygments_lexer": "ipython3",
   "version": "3.8.8"
  }
 },
 "nbformat": 4,
 "nbformat_minor": 5
}

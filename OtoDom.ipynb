{
 "cells": [
  {
   "cell_type": "code",
   "execution_count": 8,
   "id": "278238d8-79a3-4d83-8834-45ed39bebab1",
   "metadata": {},
   "outputs": [],
   "source": [
    "from bs4 import BeautifulSoup\n",
    "from requests import get\n",
    "import pandas as pd\n",
    "import sqlite3\n",
    "import numpy as np\n",
    "import re\n",
    "from selenium import webdriver\n",
    "from webdriver_manager.chrome import ChromeDriverManager\n",
    "from pymongo import MongoClient"
   ]
  },
  {
   "cell_type": "code",
   "execution_count": null,
   "id": "1deda4dc-1ba7-40c7-86d6-19e583df52c5",
   "metadata": {},
   "outputs": [],
   "source": [
    "client = MongoClient('localhost', 27017)\n",
    "db = client.test_database\n",
    "mojaBaza = db[\"Otodom\"]"
   ]
  },
  {
   "cell_type": "code",
   "execution_count": null,
   "id": "de0660b5-106f-4c1b-bc6d-510e1a354ccf",
   "metadata": {},
   "outputs": [],
   "source": [
    "driver = webdriver.Chrome('/Users/Szczesny/.wdm/drivers/chromedriver/mac64/97.0.4692.71/chromedriver')"
   ]
  },
  {
   "cell_type": "code",
   "execution_count": null,
   "id": "c2b1bf4d-5b5c-44c4-a3da-17a1b6b37ae0",
   "metadata": {},
   "outputs": [],
   "source": [
    "def wypiszInformacje(zmienna):\n",
    "    try:\n",
    "        Dana = driver.find_element_by_xpath(f\"//div[@aria-label='{zmienna}']\")\n",
    "    except NoSuchElementException as err:\n",
    "        return \"-\"\n",
    "    else:\n",
    "        return Dana.text.split('\\n')[1]\n"
   ]
  },
  {
   "cell_type": "code",
   "execution_count": null,
   "id": "f63fd566-9990-46a6-805d-086d4f2bac75",
   "metadata": {},
   "outputs": [],
   "source": [
    "def wypiszInformacjeDodatkowe(clasa):\n",
    "    try:\n",
    "        elementy =driver.find_element_by_css_selector(f\"{clasa}\").text\n",
    "    except NoSuchElementException as err:\n",
    "        return [\"-\"]\n",
    "    else:\n",
    "        return [informacja.replace('/',',') for informacja in elementy.split('\\n') if informacja[0].islower()] "
   ]
  },
  {
   "cell_type": "code",
   "execution_count": null,
   "id": "3ccdef2a-3f94-4e56-a19b-fb795003685f",
   "metadata": {},
   "outputs": [],
   "source": [
    "def zwracLinkiOgoszen(URL,iloscPodstron):\n",
    "    linki = []\n",
    "    link = URL\n",
    "    for i in range(1,iloscPodstron+1):\n",
    "        link = link+str(i)\n",
    "        page = get(link)\n",
    "        bs=BeautifulSoup(page.content,'html.parser')\n",
    "        ogloszenia = bs.find_all('a', class_=\"css-1aeekh1 es62z2j27\")\n",
    "        linki = linki + list(map(lambda x: x['href'],ogloszenia))\n",
    "        link = URL\n",
    "    return linki"
   ]
  },
  {
   "cell_type": "code",
   "execution_count": null,
   "id": "9341d33a-cd3c-4ea0-a46b-f6b277fcc014",
   "metadata": {},
   "outputs": [],
   "source": [
    "linki = zwracLinkiOgoszen('https://www.otodom.pl/pl/oferty/sprzedaz/mieszkanie/krakow?page=',510)\n",
    "linki = list(set(linki))"
   ]
  },
  {
   "cell_type": "code",
   "execution_count": null,
   "id": "e482d082-ea99-4635-8179-93913f9e8474",
   "metadata": {},
   "outputs": [],
   "source": [
    "for link in linki:\n",
    "    URL = \"https://www.otodom.pl\"+link\n",
    "    driver.get(URL)\n",
    "    dane = {\n",
    "        'Cena':driver.find_elements_by_class_name(\"css-b114we.eu6swcv14\")[0].text,\n",
    "        'Powierzchnia':wypiszInformacje('Powierzchnia'), \n",
    "        'Rynek':wypiszInformacje('Rynek'),  \n",
    "        'Lokalizacja':driver.find_element_by_css_selector(\"div.css-1k12nzr.eu6swcv10\").text,\n",
    "        'Ogrzewanie': wypiszInformacje('Ogrzewanie'),\n",
    "        'Liczba_pokoi':wypiszInformacje('Liczba pokoi'),  \n",
    "        'Stan':wypiszInformacje('Stan Wykończenia'),\n",
    "        'Pietro':wypiszInformacje('Piętro'),\n",
    "        'Rok':wypiszInformacje('Rok budowy'),\n",
    "        'informacjeDodatkowe':wypiszInformacjeDodatkowe(\"div.css-1lw3ul3.ex3yvbv4\")}\n",
    "    mojaBaza.insert_one(dane) "
   ]
  }
 ],
 "metadata": {
  "kernelspec": {
   "display_name": "Python 3",
   "language": "python",
   "name": "python3"
  },
  "language_info": {
   "codemirror_mode": {
    "name": "ipython",
    "version": 3
   },
   "file_extension": ".py",
   "mimetype": "text/x-python",
   "name": "python",
   "nbconvert_exporter": "python",
   "pygments_lexer": "ipython3",
   "version": "3.8.8"
  }
 },
 "nbformat": 4,
 "nbformat_minor": 5
}
